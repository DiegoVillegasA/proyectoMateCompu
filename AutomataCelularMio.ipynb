{
 "metadata": {
  "name": "",
  "signature": "sha256:57c528b93b964135ee814e869dd01d9311477107b69c33a977622b14cbc5f5d7"
 },
 "nbformat": 3,
 "nbformat_minor": 0,
 "worksheets": [
  {
   "cells": [
    {
     "cell_type": "code",
     "collapsed": false,
     "input": [
      "class AutomataCelular1D(object):\n",
      "    \n",
      "    def _init_ (self, regla, L, ratio):\n",
      "        \"\"\" \n",
      "        L es el numero de columnas que hay\n",
      "        \"\"\"\n",
      "        self.L = L\n",
      "        self.m = ratio*n + 1\n",
      "        self.array = np.zeros((n, self.m), dtype=np.int8)\n",
      "        self.next = 0\n",
      "        self.pendienteCritica=7\n",
      "    \n",
      "    def dinamica(self):\n",
      "        for i in xrange(0,L,1):\n",
      "            pendiente=self.array[i]+self.array[i+1]\n",
      "            if pendiente>pendienteCritica:\n",
      "                self.array[i]-=1\n",
      "            else:\n",
      "                self.array+=1\n",
      "    \n",
      "    \"\"\"\n",
      "    codigo siguiente copiado de lo de clase\n",
      "    \"\"\"\n",
      "    def startSingle(self):\n",
      "        \"\"\"La semilla es una sola y aparece a la mitad del arreglo 1D.\"\"\"\n",
      "        self.array[0, self.m/2] = 1\n",
      "        self.next += 1\n",
      "\n",
      "    def startRandom(self):\n",
      "        \"\"\"Valores aleatorios en el tiempo t_0\"\"\"\n",
      "        self.array[0] = np.random.random([1,self.m]).round()\n",
      "        self.next += 1"
     ],
     "language": "python",
     "metadata": {},
     "outputs": []
    },
    {
     "cell_type": "code",
     "collapsed": false,
     "input": [
      "def dinamica(array):\n",
      "        for i in xrange(0,L,1):\n",
      "            pendiente=array[i]+array[i+1]\n",
      "            if pendiente>pendienteCritica:\n",
      "                array[i]-=1\n",
      "                array[i+1]+=1\n",
      "            else:\n",
      "                "
     ],
     "language": "python",
     "metadata": {},
     "outputs": [],
     "prompt_number": 1
    },
    {
     "cell_type": "code",
     "collapsed": false,
     "input": [
      "L=10\n"
     ],
     "language": "python",
     "metadata": {},
     "outputs": []
    }
   ],
   "metadata": {}
  }
 ]
}